{
 "cells": [
  {
   "cell_type": "code",
   "execution_count": 132,
   "metadata": {},
   "outputs": [
    {
     "name": "stdout",
     "output_type": "stream",
     "text": [
      "CPU times: user 45.9 ms, sys: 0 ns, total: 45.9 ms\n",
      "Wall time: 326 ms\n"
     ]
    }
   ],
   "source": [
    "%%time\n",
    "\n",
    "import os\n",
    "import boto3\n",
    "import re\n",
    "import io\n",
    "import sagemaker\n",
    "import pickle\n",
    "import json\n",
    "import time\n",
    "import pandas as pd\n",
    "import numpy as np\n",
    "import matplotlib.pyplot as plt\n",
    "import sagemaker.amazon.common as smac\n",
    "import seaborn as sns\n",
    "from IPython.display import Image                 \n",
    "from IPython.display import display               \n",
    "from time import gmtime, strftime                 \n",
    "from sagemaker.predictor import csv_serializer \n",
    "from sagemaker import get_execution_role\n",
    "from textblob import TextBlob\n",
    "from scipy import sparse\n",
    "from sklearn.metrics import accuracy_score\n",
    "from sklearn.model_selection import train_test_split\n",
    "from sklearn.linear_model import LogisticRegression\n",
    "from sklearn.metrics import r2_score\n",
    "from sklearn.metrics import mean_squared_error\n",
    "from math import sqrt\n",
    "from sklearn.model_selection import KFold\n",
    "from sklearn.model_selection import cross_val_predict\n",
    "from sklearn.feature_extraction.text import TfidfVectorizer\n",
    "from sklearn.datasets import dump_svmlight_file\n",
    "from sklearn.feature_extraction.text import CountVectorizer\n",
    "from sklearn.naive_bayes import MultinomialNB\n",
    "from sklearn.feature_extraction.text import TfidfTransformer\n",
    "role = get_execution_role()\n",
    "region = boto3.Session().region_name\n",
    "\n",
    "bucket='fakenewsdata' # put your s3 bucket name here, and create s3 bucket\n",
    "prefix = 'sagemaker/DEMO-xgboost-regression'\n",
    "# customize to your bucket where you have stored the data\n",
    "bucket_path = 'https://s3-{}.amazonaws.com/{}'.format(region,bucket)"
   ]
  },
  {
   "cell_type": "code",
   "execution_count": 77,
   "metadata": {
    "scrolled": true
   },
   "outputs": [],
   "source": [
    "train=pd.read_csv('datasets/train.csv')\n",
    "\n",
    "#data prep\n",
    "train=train.fillna(' ')\n",
    "train['total']=train['title']+' '+train['text']\n",
    "\n",
    "#tfidf\n",
    "transformer = TfidfTransformer(smooth_idf=False)\n",
    "count_vectorizer = CountVectorizer(ngram_range=(1, 1), max_features=10000)\n",
    "counts = count_vectorizer.fit_transform(train['total'].values)\n",
    "tfidf = transformer.fit_transform(counts)\n",
    "targets = train['label'].values"
   ]
  },
  {
   "cell_type": "code",
   "execution_count": 102,
   "metadata": {},
   "outputs": [],
   "source": [
    "# Save the count vectorizer voabulary to S3 so the transformer can be recreated in AWS Lambda preprocessor\n",
    "vocab = count_vectorizer.vocabulary_\n",
    "vocab = dict((k,int(v)) for k,v in vocab.items())\n",
    "with open('data.json', 'w') as outfile:\n",
    "    json.dump(vocab, outfile)\n",
    "boto3.Session().resource('s3').Bucket(bucket).Object(os.path.join(prefix, 'vocab/vocab.json')).upload_file('data.json')"
   ]
  },
  {
   "cell_type": "code",
   "execution_count": 4,
   "metadata": {},
   "outputs": [],
   "source": [
    "attributes = pd.DataFrame(tfidf.toarray())\n",
    "targets = pd.DataFrame(targets)"
   ]
  },
  {
   "cell_type": "code",
   "execution_count": 5,
   "metadata": {},
   "outputs": [],
   "source": [
    "#Split data into Training, Validation and Testing sets\n",
    "X_train, X_test, y_train, y_test = train_test_split(attributes, targets, test_size=0.2, random_state=1)\n",
    "X_train, X_val, y_train, y_val = train_test_split(X_train.copy(), y_train.copy(), test_size=0.2, random_state=1)"
   ]
  },
  {
   "cell_type": "code",
   "execution_count": 6,
   "metadata": {},
   "outputs": [],
   "source": [
    "# Create CSV files with target values in the first column (XGBoost requirement)\n",
    "pd.concat([y_train, X_train], axis=1).to_csv('train.csv', index=False, header=False)\n",
    "pd.concat([y_val, X_val], axis=1).to_csv('validation.csv', index=False, header=False)"
   ]
  },
  {
   "cell_type": "code",
   "execution_count": null,
   "metadata": {},
   "outputs": [],
   "source": [
    "data_check = pd.read_csv('validation.csv', delimiter=',')\n",
    "data_check.head(10)"
   ]
  },
  {
   "cell_type": "code",
   "execution_count": 82,
   "metadata": {},
   "outputs": [],
   "source": [
    "# Save CSVs to s3\n",
    "boto3.Session().resource('s3').Bucket(bucket).Object(os.path.join(prefix, 'train/train.csv')).upload_file('train.csv')\n",
    "boto3.Session().resource('s3').Bucket(bucket).Object(os.path.join(prefix, 'validation/validation.csv')).upload_file('validation.csv')"
   ]
  },
  {
   "cell_type": "code",
   "execution_count": 8,
   "metadata": {},
   "outputs": [],
   "source": [
    "# Create container for XGBoost\n",
    "from sagemaker.amazon.amazon_estimator import get_image_uri\n",
    "container = get_image_uri(boto3.Session().region_name, 'xgboost')"
   ]
  },
  {
   "cell_type": "code",
   "execution_count": 9,
   "metadata": {},
   "outputs": [],
   "source": [
    "# Filepaths for training and validation CSVs\n",
    "s3_input_train = sagemaker.s3_input(s3_data='s3://{}/{}/train/'.format(bucket, prefix), content_type='csv')\n",
    "s3_input_validation = sagemaker.s3_input(s3_data='s3://{}/{}/validation/'.format(bucket, prefix), content_type='csv')"
   ]
  },
  {
   "cell_type": "code",
   "execution_count": 10,
   "metadata": {},
   "outputs": [
    {
     "name": "stderr",
     "output_type": "stream",
     "text": [
      "INFO:sagemaker:Creating training-job with name: xgboost-2018-10-20-16-35-23-664\n"
     ]
    },
    {
     "name": "stdout",
     "output_type": "stream",
     "text": [
      "2018-10-20 16:35:23 Starting - Starting the training job...\n",
      "2018-10-20 16:35:27 Starting - Launching requested ML instances......\n",
      "2018-10-20 16:36:52 Starting - Preparing the instances for training......\n",
      "2018-10-20 16:37:39 Downloading - Downloading input data...\n",
      "2018-10-20 16:38:24 Training - Training image download completed. Training in progress..\n",
      "\u001b[31mArguments: train\u001b[0m\n",
      "\u001b[31m[2018-10-20:16:38:24:INFO] Running standalone xgboost training.\u001b[0m\n",
      "\u001b[31m[2018-10-20:16:38:24:INFO] File size need to be processed in the node: 710.02mb. Available memory size in the node: 8549.73mb\u001b[0m\n",
      "\u001b[31m[2018-10-20:16:38:24:INFO] Determined delimiter of CSV input is ','\u001b[0m\n",
      "\u001b[31m[16:38:24] S3DistributionType set as FullyReplicated\u001b[0m\n",
      "\u001b[31m[16:38:28] 13312x10000 matrix with 133120000 entries loaded from /opt/ml/input/data/train?format=csv&label_column=0&delimiter=,\u001b[0m\n",
      "\u001b[31m[2018-10-20:16:38:28:INFO] Determined delimiter of CSV input is ','\u001b[0m\n",
      "\u001b[31m[16:38:28] S3DistributionType set as FullyReplicated\u001b[0m\n",
      "\u001b[31m[16:38:28] 3328x10000 matrix with 33280000 entries loaded from /opt/ml/input/data/validation?format=csv&label_column=0&delimiter=,\u001b[0m\n",
      "\u001b[31m[16:38:38] src/tree/updater_prune.cc:74: tree pruning end, 1 roots, 38 extra nodes, 6 pruned nodes, max_depth=5\u001b[0m\n",
      "\u001b[31m[0]#011train-error:0.067758#011validation-error:0.06851\u001b[0m\n",
      "\u001b[31m[16:38:40] src/tree/updater_prune.cc:74: tree pruning end, 1 roots, 32 extra nodes, 6 pruned nodes, max_depth=5\u001b[0m\n",
      "\u001b[31m[1]#011train-error:0.059796#011validation-error:0.064002\u001b[0m\n",
      "\u001b[31m[16:38:43] src/tree/updater_prune.cc:74: tree pruning end, 1 roots, 40 extra nodes, 6 pruned nodes, max_depth=5\u001b[0m\n",
      "\u001b[31m[2]#011train-error:0.057692#011validation-error:0.058594\u001b[0m\n",
      "\u001b[31m[16:38:45] src/tree/updater_prune.cc:74: tree pruning end, 1 roots, 44 extra nodes, 4 pruned nodes, max_depth=5\u001b[0m\n",
      "\u001b[31m[3]#011train-error:0.05604#011validation-error:0.059195\u001b[0m\n",
      "\u001b[31m[16:38:48] src/tree/updater_prune.cc:74: tree pruning end, 1 roots, 44 extra nodes, 6 pruned nodes, max_depth=5\u001b[0m\n",
      "\u001b[31m[4]#011train-error:0.054612#011validation-error:0.054087\u001b[0m\n",
      "\u001b[31m[16:38:50] src/tree/updater_prune.cc:74: tree pruning end, 1 roots, 38 extra nodes, 4 pruned nodes, max_depth=5\u001b[0m\n",
      "\u001b[31m[5]#011train-error:0.051157#011validation-error:0.053786\u001b[0m\n",
      "\u001b[31m[16:38:52] src/tree/updater_prune.cc:74: tree pruning end, 1 roots, 42 extra nodes, 4 pruned nodes, max_depth=5\u001b[0m\n",
      "\u001b[31m[6]#011train-error:0.049129#011validation-error:0.050781\u001b[0m\n",
      "\u001b[31m[16:38:55] src/tree/updater_prune.cc:74: tree pruning end, 1 roots, 40 extra nodes, 4 pruned nodes, max_depth=5\u001b[0m\n",
      "\u001b[31m[7]#011train-error:0.047852#011validation-error:0.048678\u001b[0m\n",
      "\u001b[31m[16:38:57] src/tree/updater_prune.cc:74: tree pruning end, 1 roots, 44 extra nodes, 6 pruned nodes, max_depth=5\u001b[0m\n",
      "\u001b[31m[8]#011train-error:0.046499#011validation-error:0.046274\u001b[0m\n",
      "\u001b[31m[16:38:59] src/tree/updater_prune.cc:74: tree pruning end, 1 roots, 42 extra nodes, 4 pruned nodes, max_depth=5\u001b[0m\n",
      "\u001b[31m[9]#011train-error:0.045898#011validation-error:0.046274\u001b[0m\n",
      "\u001b[31m[16:39:02] src/tree/updater_prune.cc:74: tree pruning end, 1 roots, 40 extra nodes, 2 pruned nodes, max_depth=5\u001b[0m\n",
      "\u001b[31m[10]#011train-error:0.045072#011validation-error:0.044772\u001b[0m\n",
      "\u001b[31m[16:39:04] src/tree/updater_prune.cc:74: tree pruning end, 1 roots, 34 extra nodes, 8 pruned nodes, max_depth=5\u001b[0m\n",
      "\u001b[31m[11]#011train-error:0.044321#011validation-error:0.044171\u001b[0m\n",
      "\u001b[31m[16:39:06] src/tree/updater_prune.cc:74: tree pruning end, 1 roots, 28 extra nodes, 2 pruned nodes, max_depth=5\u001b[0m\n",
      "\u001b[31m[12]#011train-error:0.041992#011validation-error:0.04357\u001b[0m\n",
      "\u001b[31m[16:39:09] src/tree/updater_prune.cc:74: tree pruning end, 1 roots, 34 extra nodes, 6 pruned nodes, max_depth=5\u001b[0m\n",
      "\u001b[31m[13]#011train-error:0.040565#011validation-error:0.044471\u001b[0m\n",
      "\u001b[31m[16:39:11] src/tree/updater_prune.cc:74: tree pruning end, 1 roots, 34 extra nodes, 8 pruned nodes, max_depth=5\u001b[0m\n",
      "\u001b[31m[14]#011train-error:0.039964#011validation-error:0.041767\u001b[0m\n",
      "\u001b[31m[16:39:13] src/tree/updater_prune.cc:74: tree pruning end, 1 roots, 30 extra nodes, 10 pruned nodes, max_depth=5\u001b[0m\n",
      "\u001b[31m[15]#011train-error:0.038462#011validation-error:0.040565\u001b[0m\n",
      "\u001b[31m[16:39:16] src/tree/updater_prune.cc:74: tree pruning end, 1 roots, 22 extra nodes, 2 pruned nodes, max_depth=5\u001b[0m\n",
      "\u001b[31m[16]#011train-error:0.037034#011validation-error:0.039663\u001b[0m\n",
      "\u001b[31m[16:39:18] src/tree/updater_prune.cc:74: tree pruning end, 1 roots, 24 extra nodes, 4 pruned nodes, max_depth=5\u001b[0m\n",
      "\u001b[31m[17]#011train-error:0.036809#011validation-error:0.039363\u001b[0m\n",
      "\u001b[31m[16:39:21] src/tree/updater_prune.cc:74: tree pruning end, 1 roots, 18 extra nodes, 14 pruned nodes, max_depth=5\u001b[0m\n",
      "\u001b[31m[18]#011train-error:0.035532#011validation-error:0.03756\u001b[0m\n",
      "\u001b[31m[16:39:23] src/tree/updater_prune.cc:74: tree pruning end, 1 roots, 28 extra nodes, 4 pruned nodes, max_depth=5\u001b[0m\n",
      "\u001b[31m[19]#011train-error:0.034856#011validation-error:0.037861\u001b[0m\n",
      "\u001b[31m[16:39:25] src/tree/updater_prune.cc:74: tree pruning end, 1 roots, 28 extra nodes, 4 pruned nodes, max_depth=5\u001b[0m\n",
      "\u001b[31m[20]#011train-error:0.033654#011validation-error:0.036659\u001b[0m\n",
      "\u001b[31m[16:39:28] src/tree/updater_prune.cc:74: tree pruning end, 1 roots, 18 extra nodes, 10 pruned nodes, max_depth=5\u001b[0m\n",
      "\u001b[31m[21]#011train-error:0.032828#011validation-error:0.036058\u001b[0m\n",
      "\u001b[31m[16:39:30] src/tree/updater_prune.cc:74: tree pruning end, 1 roots, 14 extra nodes, 6 pruned nodes, max_depth=5\u001b[0m\n",
      "\u001b[31m[22]#011train-error:0.032677#011validation-error:0.036058\u001b[0m\n",
      "\u001b[31m[16:39:32] src/tree/updater_prune.cc:74: tree pruning end, 1 roots, 22 extra nodes, 10 pruned nodes, max_depth=5\u001b[0m\n",
      "\u001b[31m[23]#011train-error:0.031776#011validation-error:0.035156\u001b[0m\n",
      "\u001b[31m[16:39:35] src/tree/updater_prune.cc:74: tree pruning end, 1 roots, 18 extra nodes, 2 pruned nodes, max_depth=5\u001b[0m\n",
      "\u001b[31m[24]#011train-error:0.031475#011validation-error:0.034555\u001b[0m\n",
      "\u001b[31m[16:39:37] src/tree/updater_prune.cc:74: tree pruning end, 1 roots, 34 extra nodes, 6 pruned nodes, max_depth=5\u001b[0m\n",
      "\u001b[31m[25]#011train-error:0.030424#011validation-error:0.034856\u001b[0m\n",
      "\u001b[31m[16:39:39] src/tree/updater_prune.cc:74: tree pruning end, 1 roots, 30 extra nodes, 8 pruned nodes, max_depth=5\u001b[0m\n",
      "\u001b[31m[26]#011train-error:0.029297#011validation-error:0.032752\u001b[0m\n",
      "\u001b[31m[16:39:42] src/tree/updater_prune.cc:74: tree pruning end, 1 roots, 20 extra nodes, 12 pruned nodes, max_depth=5\u001b[0m\n",
      "\u001b[31m[27]#011train-error:0.028621#011validation-error:0.031851\u001b[0m\n",
      "\u001b[31m[16:39:44] src/tree/updater_prune.cc:74: tree pruning end, 1 roots, 12 extra nodes, 6 pruned nodes, max_depth=5\u001b[0m\n",
      "\u001b[31m[28]#011train-error:0.027644#011validation-error:0.032452\u001b[0m\n",
      "\u001b[31m[16:39:47] src/tree/updater_prune.cc:74: tree pruning end, 1 roots, 20 extra nodes, 8 pruned nodes, max_depth=5\u001b[0m\n",
      "\u001b[31m[29]#011train-error:0.026893#011validation-error:0.03125\u001b[0m\n",
      "\u001b[31m[16:39:49] src/tree/updater_prune.cc:74: tree pruning end, 1 roots, 20 extra nodes, 14 pruned nodes, max_depth=5\u001b[0m\n",
      "\u001b[31m[30]#011train-error:0.025616#011validation-error:0.03095\u001b[0m\n",
      "\u001b[31m[16:39:51] src/tree/updater_prune.cc:74: tree pruning end, 1 roots, 32 extra nodes, 4 pruned nodes, max_depth=5\u001b[0m\n",
      "\u001b[31m[31]#011train-error:0.025766#011validation-error:0.031851\u001b[0m\n",
      "\u001b[31m[16:39:54] src/tree/updater_prune.cc:74: tree pruning end, 1 roots, 16 extra nodes, 4 pruned nodes, max_depth=5\u001b[0m\n",
      "\u001b[31m[32]#011train-error:0.025391#011validation-error:0.03155\u001b[0m\n",
      "\u001b[31m[16:39:56] src/tree/updater_prune.cc:74: tree pruning end, 1 roots, 10 extra nodes, 12 pruned nodes, max_depth=5\u001b[0m\n",
      "\u001b[31m[33]#011train-error:0.024715#011validation-error:0.03125\u001b[0m\n",
      "\u001b[31m[16:39:58] src/tree/updater_prune.cc:74: tree pruning end, 1 roots, 14 extra nodes, 10 pruned nodes, max_depth=5\u001b[0m\n",
      "\u001b[31m[34]#011train-error:0.024339#011validation-error:0.03125\u001b[0m\n",
      "\u001b[31m[16:40:01] src/tree/updater_prune.cc:74: tree pruning end, 1 roots, 18 extra nodes, 6 pruned nodes, max_depth=5\u001b[0m\n",
      "\u001b[31m[35]#011train-error:0.024189#011validation-error:0.030349\u001b[0m\n",
      "\u001b[31m[16:40:03] src/tree/updater_prune.cc:74: tree pruning end, 1 roots, 10 extra nodes, 4 pruned nodes, max_depth=5\u001b[0m\n",
      "\u001b[31m[36]#011train-error:0.023663#011validation-error:0.030048\u001b[0m\n",
      "\u001b[31m[16:40:06] src/tree/updater_prune.cc:74: tree pruning end, 1 roots, 14 extra nodes, 10 pruned nodes, max_depth=5\u001b[0m\n",
      "\u001b[31m[37]#011train-error:0.022912#011validation-error:0.030048\u001b[0m\n",
      "\u001b[31m[16:40:08] src/tree/updater_prune.cc:74: tree pruning end, 1 roots, 12 extra nodes, 12 pruned nodes, max_depth=5\u001b[0m\n",
      "\u001b[31m[38]#011train-error:0.022386#011validation-error:0.029748\u001b[0m\n"
     ]
    },
    {
     "name": "stdout",
     "output_type": "stream",
     "text": [
      "\u001b[31m[16:40:10] src/tree/updater_prune.cc:74: tree pruning end, 1 roots, 10 extra nodes, 8 pruned nodes, max_depth=5\u001b[0m\n",
      "\u001b[31m[39]#011train-error:0.02216#011validation-error:0.030349\u001b[0m\n",
      "\u001b[31m[16:40:13] src/tree/updater_prune.cc:74: tree pruning end, 1 roots, 20 extra nodes, 8 pruned nodes, max_depth=5\u001b[0m\n",
      "\u001b[31m[40]#011train-error:0.021484#011validation-error:0.030048\u001b[0m\n",
      "\u001b[31m[16:40:15] src/tree/updater_prune.cc:74: tree pruning end, 1 roots, 18 extra nodes, 6 pruned nodes, max_depth=5\u001b[0m\n",
      "\u001b[31m[41]#011train-error:0.020508#011validation-error:0.030048\u001b[0m\n",
      "\u001b[31m[16:40:17] src/tree/updater_prune.cc:74: tree pruning end, 1 roots, 12 extra nodes, 8 pruned nodes, max_depth=5\u001b[0m\n",
      "\u001b[31m[42]#011train-error:0.020207#011validation-error:0.029748\u001b[0m\n",
      "\u001b[31m[16:40:20] src/tree/updater_prune.cc:74: tree pruning end, 1 roots, 16 extra nodes, 10 pruned nodes, max_depth=5\u001b[0m\n",
      "\u001b[31m[43]#011train-error:0.020132#011validation-error:0.030349\u001b[0m\n",
      "\u001b[31m[16:40:22] src/tree/updater_prune.cc:74: tree pruning end, 1 roots, 18 extra nodes, 4 pruned nodes, max_depth=5\u001b[0m\n",
      "\u001b[31m[44]#011train-error:0.020658#011validation-error:0.029748\u001b[0m\n",
      "\u001b[31m[16:40:25] src/tree/updater_prune.cc:74: tree pruning end, 1 roots, 12 extra nodes, 6 pruned nodes, max_depth=5\u001b[0m\n",
      "\u001b[31m[45]#011train-error:0.020132#011validation-error:0.029748\u001b[0m\n",
      "\u001b[31m[16:40:27] src/tree/updater_prune.cc:74: tree pruning end, 1 roots, 16 extra nodes, 10 pruned nodes, max_depth=5\u001b[0m\n",
      "\u001b[31m[46]#011train-error:0.019606#011validation-error:0.028546\u001b[0m\n",
      "\u001b[31m[16:40:29] src/tree/updater_prune.cc:74: tree pruning end, 1 roots, 18 extra nodes, 6 pruned nodes, max_depth=5\u001b[0m\n",
      "\u001b[31m[47]#011train-error:0.01893#011validation-error:0.028546\u001b[0m\n",
      "\u001b[31m[16:40:32] src/tree/updater_prune.cc:74: tree pruning end, 1 roots, 20 extra nodes, 8 pruned nodes, max_depth=5\u001b[0m\n",
      "\u001b[31m[48]#011train-error:0.018555#011validation-error:0.028846\u001b[0m\n",
      "\u001b[31m[16:40:34] src/tree/updater_prune.cc:74: tree pruning end, 1 roots, 18 extra nodes, 8 pruned nodes, max_depth=5\u001b[0m\n",
      "\u001b[31m[49]#011train-error:0.01848#011validation-error:0.028546\u001b[0m\n",
      "\u001b[31m[16:40:36] src/tree/updater_prune.cc:74: tree pruning end, 1 roots, 22 extra nodes, 8 pruned nodes, max_depth=5\u001b[0m\n",
      "\u001b[31m[50]#011train-error:0.017503#011validation-error:0.027945\u001b[0m\n",
      "\u001b[31m[16:40:39] src/tree/updater_prune.cc:74: tree pruning end, 1 roots, 10 extra nodes, 4 pruned nodes, max_depth=5\u001b[0m\n",
      "\u001b[31m[51]#011train-error:0.017052#011validation-error:0.028245\u001b[0m\n",
      "\u001b[31m[16:40:41] src/tree/updater_prune.cc:74: tree pruning end, 1 roots, 14 extra nodes, 4 pruned nodes, max_depth=5\u001b[0m\n",
      "\u001b[31m[52]#011train-error:0.016526#011validation-error:0.027945\u001b[0m\n",
      "\u001b[31m[16:40:44] src/tree/updater_prune.cc:74: tree pruning end, 1 roots, 16 extra nodes, 4 pruned nodes, max_depth=5\u001b[0m\n",
      "\u001b[31m[53]#011train-error:0.016076#011validation-error:0.028546\u001b[0m\n",
      "\u001b[31m[16:40:46] src/tree/updater_prune.cc:74: tree pruning end, 1 roots, 22 extra nodes, 6 pruned nodes, max_depth=5\u001b[0m\n",
      "\u001b[31m[54]#011train-error:0.015325#011validation-error:0.027945\u001b[0m\n",
      "\u001b[31m[16:40:48] src/tree/updater_prune.cc:74: tree pruning end, 1 roots, 14 extra nodes, 10 pruned nodes, max_depth=5\u001b[0m\n",
      "\u001b[31m[55]#011train-error:0.015325#011validation-error:0.027344\u001b[0m\n",
      "\u001b[31m[16:40:51] src/tree/updater_prune.cc:74: tree pruning end, 1 roots, 16 extra nodes, 0 pruned nodes, max_depth=5\u001b[0m\n",
      "\u001b[31m[56]#011train-error:0.014949#011validation-error:0.027043\u001b[0m\n",
      "\u001b[31m[16:40:53] src/tree/updater_prune.cc:74: tree pruning end, 1 roots, 12 extra nodes, 4 pruned nodes, max_depth=5\u001b[0m\n",
      "\u001b[31m[57]#011train-error:0.014423#011validation-error:0.027043\u001b[0m\n",
      "\u001b[31m[16:40:55] src/tree/updater_prune.cc:74: tree pruning end, 1 roots, 16 extra nodes, 8 pruned nodes, max_depth=5\u001b[0m\n",
      "\u001b[31m[58]#011train-error:0.014423#011validation-error:0.027043\u001b[0m\n",
      "\u001b[31m[16:40:58] src/tree/updater_prune.cc:74: tree pruning end, 1 roots, 12 extra nodes, 16 pruned nodes, max_depth=5\u001b[0m\n",
      "\u001b[31m[59]#011train-error:0.013972#011validation-error:0.026442\u001b[0m\n",
      "\u001b[31m[16:41:00] src/tree/updater_prune.cc:74: tree pruning end, 1 roots, 12 extra nodes, 6 pruned nodes, max_depth=5\u001b[0m\n",
      "\u001b[31m[60]#011train-error:0.013972#011validation-error:0.027043\u001b[0m\n",
      "\u001b[31m[16:41:03] src/tree/updater_prune.cc:74: tree pruning end, 1 roots, 12 extra nodes, 2 pruned nodes, max_depth=5\u001b[0m\n",
      "\u001b[31m[61]#011train-error:0.013672#011validation-error:0.026743\u001b[0m\n",
      "\u001b[31m[16:41:05] src/tree/updater_prune.cc:74: tree pruning end, 1 roots, 14 extra nodes, 4 pruned nodes, max_depth=5\u001b[0m\n",
      "\u001b[31m[62]#011train-error:0.013221#011validation-error:0.026743\u001b[0m\n",
      "\u001b[31m[16:41:07] src/tree/updater_prune.cc:74: tree pruning end, 1 roots, 12 extra nodes, 8 pruned nodes, max_depth=5\u001b[0m\n",
      "\u001b[31m[63]#011train-error:0.013296#011validation-error:0.027043\u001b[0m\n",
      "\u001b[31m[16:41:10] src/tree/updater_prune.cc:74: tree pruning end, 1 roots, 10 extra nodes, 4 pruned nodes, max_depth=5\u001b[0m\n",
      "\u001b[31m[64]#011train-error:0.012996#011validation-error:0.027344\u001b[0m\n",
      "\u001b[31m[16:41:12] src/tree/updater_prune.cc:74: tree pruning end, 1 roots, 12 extra nodes, 8 pruned nodes, max_depth=5\u001b[0m\n",
      "\u001b[31m[65]#011train-error:0.01247#011validation-error:0.027644\u001b[0m\n",
      "\u001b[31m[16:41:14] src/tree/updater_prune.cc:74: tree pruning end, 1 roots, 10 extra nodes, 6 pruned nodes, max_depth=5\u001b[0m\n",
      "\u001b[31m[66]#011train-error:0.01232#011validation-error:0.027344\u001b[0m\n",
      "\u001b[31m[16:41:17] src/tree/updater_prune.cc:74: tree pruning end, 1 roots, 12 extra nodes, 4 pruned nodes, max_depth=5\u001b[0m\n",
      "\u001b[31m[67]#011train-error:0.012019#011validation-error:0.027945\u001b[0m\n",
      "\u001b[31m[16:41:19] src/tree/updater_prune.cc:74: tree pruning end, 1 roots, 20 extra nodes, 16 pruned nodes, max_depth=5\u001b[0m\n",
      "\u001b[31m[68]#011train-error:0.011343#011validation-error:0.027043\u001b[0m\n",
      "\u001b[31m[16:41:21] src/tree/updater_prune.cc:74: tree pruning end, 1 roots, 14 extra nodes, 8 pruned nodes, max_depth=5\u001b[0m\n",
      "\u001b[31m[69]#011train-error:0.011719#011validation-error:0.027644\u001b[0m\n",
      "\u001b[31m[16:41:24] src/tree/updater_prune.cc:74: tree pruning end, 1 roots, 18 extra nodes, 0 pruned nodes, max_depth=5\u001b[0m\n",
      "\u001b[31m[70]#011train-error:0.011118#011validation-error:0.027043\u001b[0m\n",
      "\u001b[31m[16:41:26] src/tree/updater_prune.cc:74: tree pruning end, 1 roots, 12 extra nodes, 10 pruned nodes, max_depth=5\u001b[0m\n",
      "\u001b[31m[71]#011train-error:0.010892#011validation-error:0.026743\u001b[0m\n",
      "\u001b[31m[16:41:29] src/tree/updater_prune.cc:74: tree pruning end, 1 roots, 18 extra nodes, 2 pruned nodes, max_depth=5\u001b[0m\n",
      "\u001b[31m[72]#011train-error:0.011118#011validation-error:0.026442\u001b[0m\n",
      "\u001b[31m[16:41:31] src/tree/updater_prune.cc:74: tree pruning end, 1 roots, 10 extra nodes, 6 pruned nodes, max_depth=5\u001b[0m\n",
      "\u001b[31m[73]#011train-error:0.010442#011validation-error:0.026142\u001b[0m\n",
      "\u001b[31m[16:41:33] src/tree/updater_prune.cc:74: tree pruning end, 1 roots, 10 extra nodes, 4 pruned nodes, max_depth=5\u001b[0m\n",
      "\u001b[31m[74]#011train-error:0.010592#011validation-error:0.026442\u001b[0m\n",
      "\u001b[31m[16:41:36] src/tree/updater_prune.cc:74: tree pruning end, 1 roots, 12 extra nodes, 8 pruned nodes, max_depth=5\u001b[0m\n",
      "\u001b[31m[75]#011train-error:0.010291#011validation-error:0.026442\u001b[0m\n",
      "\u001b[31m[16:41:38] src/tree/updater_prune.cc:74: tree pruning end, 1 roots, 10 extra nodes, 6 pruned nodes, max_depth=5\u001b[0m\n",
      "\u001b[31m[76]#011train-error:0.010216#011validation-error:0.026142\u001b[0m\n",
      "\u001b[31m[16:41:40] src/tree/updater_prune.cc:74: tree pruning end, 1 roots, 16 extra nodes, 6 pruned nodes, max_depth=5\u001b[0m\n",
      "\u001b[31m[77]#011train-error:0.010216#011validation-error:0.025841\u001b[0m\n",
      "\u001b[31m[16:41:43] src/tree/updater_prune.cc:74: tree pruning end, 1 roots, 10 extra nodes, 10 pruned nodes, max_depth=5\u001b[0m\n",
      "\u001b[31m[78]#011train-error:0.009841#011validation-error:0.025841\u001b[0m\n",
      "\u001b[31m[16:41:45] src/tree/updater_prune.cc:74: tree pruning end, 1 roots, 12 extra nodes, 0 pruned nodes, max_depth=5\u001b[0m\n",
      "\u001b[31m[79]#011train-error:0.009465#011validation-error:0.025841\u001b[0m\n",
      "\u001b[31m[16:41:48] src/tree/updater_prune.cc:74: tree pruning end, 1 roots, 22 extra nodes, 14 pruned nodes, max_depth=5\u001b[0m\n",
      "\u001b[31m[80]#011train-error:0.009315#011validation-error:0.025841\u001b[0m\n",
      "\u001b[31m[16:41:50] src/tree/updater_prune.cc:74: tree pruning end, 1 roots, 10 extra nodes, 8 pruned nodes, max_depth=5\u001b[0m\n",
      "\u001b[31m[81]#011train-error:0.009315#011validation-error:0.025541\u001b[0m\n",
      "\u001b[31m[16:41:52] src/tree/updater_prune.cc:74: tree pruning end, 1 roots, 10 extra nodes, 6 pruned nodes, max_depth=5\u001b[0m\n",
      "\u001b[31m[82]#011train-error:0.00954#011validation-error:0.025541\u001b[0m\n",
      "\u001b[31m[16:41:55] src/tree/updater_prune.cc:74: tree pruning end, 1 roots, 10 extra nodes, 4 pruned nodes, max_depth=5\u001b[0m\n",
      "\u001b[31m[83]#011train-error:0.009165#011validation-error:0.02524\u001b[0m\n",
      "\u001b[31m[16:41:57] src/tree/updater_prune.cc:74: tree pruning end, 1 roots, 10 extra nodes, 2 pruned nodes, max_depth=5\u001b[0m\n",
      "\u001b[31m[84]#011train-error:0.008789#011validation-error:0.02494\u001b[0m\n",
      "\u001b[31m[16:42:00] src/tree/updater_prune.cc:74: tree pruning end, 1 roots, 10 extra nodes, 8 pruned nodes, max_depth=5\u001b[0m\n",
      "\u001b[31m[85]#011train-error:0.009014#011validation-error:0.024639\u001b[0m\n",
      "\u001b[31m[16:42:02] src/tree/updater_prune.cc:74: tree pruning end, 1 roots, 12 extra nodes, 6 pruned nodes, max_depth=5\u001b[0m\n",
      "\u001b[31m[86]#011train-error:0.008789#011validation-error:0.024339\u001b[0m\n"
     ]
    },
    {
     "name": "stdout",
     "output_type": "stream",
     "text": [
      "\u001b[31m[16:42:04] src/tree/updater_prune.cc:74: tree pruning end, 1 roots, 12 extra nodes, 0 pruned nodes, max_depth=5\u001b[0m\n",
      "\u001b[31m[87]#011train-error:0.008338#011validation-error:0.024038\u001b[0m\n",
      "\u001b[31m[16:42:07] src/tree/updater_prune.cc:74: tree pruning end, 1 roots, 10 extra nodes, 2 pruned nodes, max_depth=5\u001b[0m\n",
      "\u001b[31m[88]#011train-error:0.008338#011validation-error:0.024339\u001b[0m\n",
      "\u001b[31m[16:42:09] src/tree/updater_prune.cc:74: tree pruning end, 1 roots, 12 extra nodes, 6 pruned nodes, max_depth=5\u001b[0m\n",
      "\u001b[31m[89]#011train-error:0.008113#011validation-error:0.024639\u001b[0m\n",
      "\u001b[31m[16:42:11] src/tree/updater_prune.cc:74: tree pruning end, 1 roots, 12 extra nodes, 10 pruned nodes, max_depth=5\u001b[0m\n",
      "\u001b[31m[90]#011train-error:0.008113#011validation-error:0.024339\u001b[0m\n",
      "\u001b[31m[16:42:14] src/tree/updater_prune.cc:74: tree pruning end, 1 roots, 10 extra nodes, 2 pruned nodes, max_depth=5\u001b[0m\n",
      "\u001b[31m[91]#011train-error:0.007888#011validation-error:0.023438\u001b[0m\n",
      "\u001b[31m[16:42:16] src/tree/updater_prune.cc:74: tree pruning end, 1 roots, 10 extra nodes, 14 pruned nodes, max_depth=5\u001b[0m\n",
      "\u001b[31m[92]#011train-error:0.007888#011validation-error:0.023438\u001b[0m\n",
      "\u001b[31m[16:42:18] src/tree/updater_prune.cc:74: tree pruning end, 1 roots, 14 extra nodes, 10 pruned nodes, max_depth=5\u001b[0m\n",
      "\u001b[31m[93]#011train-error:0.007587#011validation-error:0.023738\u001b[0m\n",
      "\u001b[31m[16:42:21] src/tree/updater_prune.cc:74: tree pruning end, 1 roots, 10 extra nodes, 0 pruned nodes, max_depth=5\u001b[0m\n",
      "\u001b[31m[94]#011train-error:0.007437#011validation-error:0.023137\u001b[0m\n",
      "\u001b[31m[16:42:23] src/tree/updater_prune.cc:74: tree pruning end, 1 roots, 10 extra nodes, 2 pruned nodes, max_depth=5\u001b[0m\n",
      "\u001b[31m[95]#011train-error:0.007287#011validation-error:0.023137\u001b[0m\n",
      "\u001b[31m[16:42:26] src/tree/updater_prune.cc:74: tree pruning end, 1 roots, 12 extra nodes, 6 pruned nodes, max_depth=5\u001b[0m\n",
      "\u001b[31m[96]#011train-error:0.007061#011validation-error:0.023438\u001b[0m\n",
      "\u001b[31m[16:42:28] src/tree/updater_prune.cc:74: tree pruning end, 1 roots, 10 extra nodes, 6 pruned nodes, max_depth=5\u001b[0m\n",
      "\u001b[31m[97]#011train-error:0.007136#011validation-error:0.023137\u001b[0m\n",
      "\u001b[31m[16:42:30] src/tree/updater_prune.cc:74: tree pruning end, 1 roots, 12 extra nodes, 10 pruned nodes, max_depth=5\u001b[0m\n",
      "\u001b[31m[98]#011train-error:0.006986#011validation-error:0.023438\u001b[0m\n",
      "\u001b[31m[16:42:33] src/tree/updater_prune.cc:74: tree pruning end, 1 roots, 10 extra nodes, 10 pruned nodes, max_depth=5\u001b[0m\n",
      "\u001b[31m[99]#011train-error:0.006911#011validation-error:0.023438\u001b[0m\n",
      "\n",
      "2018-10-20 16:43:34 Uploading - Uploading generated training model\n",
      "2018-10-20 16:43:34 Completed - Training job completed\n",
      "Billable seconds: 356\n"
     ]
    }
   ],
   "source": [
    "# TRAIN MODEL\n",
    "\n",
    "sess = sagemaker.Session()\n",
    "\n",
    "xgb = sagemaker.estimator.Estimator(container,\n",
    "                                     role, \n",
    "                                     train_instance_count=1, \n",
    "                                     train_instance_type='ml.m4.xlarge',\n",
    "                                     output_path='s3://{}/{}/output'.format(bucket, prefix),\n",
    "                                     sagemaker_session=sess)\n",
    "xgb.set_hyperparameters(max_depth=5,\n",
    "                         eta=0.2,\n",
    "                         gamma=4,\n",
    "                         min_child_weight=6,\n",
    "                         subsample=0.8,\n",
    "                         silent=0,\n",
    "                         objective='binary:logistic',\n",
    "                         num_round=100)\n",
    "\n",
    "xgb.fit({'train': s3_input_train, 'validation': s3_input_validation})"
   ]
  },
  {
   "cell_type": "code",
   "execution_count": 11,
   "metadata": {},
   "outputs": [
    {
     "name": "stderr",
     "output_type": "stream",
     "text": [
      "INFO:sagemaker:Creating model with name: xgboost-2018-10-20-16-45-59-094\n",
      "INFO:sagemaker:Creating endpoint with name xgboost-2018-10-20-16-35-23-664\n"
     ]
    },
    {
     "name": "stdout",
     "output_type": "stream",
     "text": [
      "---------------------------------------------------------------------!"
     ]
    }
   ],
   "source": [
    "# Deploy model\n",
    "xgb_predictor = xgb.deploy(initial_instance_count=1, instance_type='ml.m4.xlarge')"
   ]
  },
  {
   "cell_type": "code",
   "execution_count": 19,
   "metadata": {},
   "outputs": [],
   "source": [
    "xgb_predictor.content_type = 'text/csv'\n",
    "xgb_predictor.serializer = csv_serializer"
   ]
  },
  {
   "cell_type": "code",
   "execution_count": 44,
   "metadata": {},
   "outputs": [],
   "source": [
    "# Test model, splitting testing set into batches\n",
    "def predict(data, rows=10):\n",
    "    split_array = np.array_split(data, int(data.shape[0] / float(rows) + 1))\n",
    "    predictions = ''\n",
    "    for array in split_array:\n",
    "        predictions = ','.join([predictions, xgb_predictor.predict(array).decode('utf-8')])\n",
    "\n",
    "    return np.fromstring(predictions[1:], sep=',')\n",
    "\n",
    "predictions = predict(X_test[:1000].as_matrix())"
   ]
  },
  {
   "cell_type": "code",
   "execution_count": 45,
   "metadata": {},
   "outputs": [
    {
     "data": {
      "text/plain": [
       "0.977"
      ]
     },
     "execution_count": 45,
     "metadata": {},
     "output_type": "execute_result"
    }
   ],
   "source": [
    "# Display Model accuracy on testing set\n",
    "accuracy_score(y_test[:1000], np.round(predictions))"
   ]
  },
  {
   "cell_type": "code",
   "execution_count": null,
   "metadata": {},
   "outputs": [],
   "source": [
    "##################################################################\n",
    "# The code below was used for data exploration and experimentation\n",
    "##################################################################"
   ]
  },
  {
   "cell_type": "code",
   "execution_count": 103,
   "metadata": {},
   "outputs": [
    {
     "data": {
      "text/html": [
       "<div>\n",
       "<style scoped>\n",
       "    .dataframe tbody tr th:only-of-type {\n",
       "        vertical-align: middle;\n",
       "    }\n",
       "\n",
       "    .dataframe tbody tr th {\n",
       "        vertical-align: top;\n",
       "    }\n",
       "\n",
       "    .dataframe thead th {\n",
       "        text-align: right;\n",
       "    }\n",
       "</style>\n",
       "<table border=\"1\" class=\"dataframe\">\n",
       "  <thead>\n",
       "    <tr style=\"text-align: right;\">\n",
       "      <th></th>\n",
       "      <th>author</th>\n",
       "      <th>title</th>\n",
       "      <th>text</th>\n",
       "      <th>language</th>\n",
       "      <th>site_url</th>\n",
       "      <th>country</th>\n",
       "      <th>spam_score</th>\n",
       "    </tr>\n",
       "  </thead>\n",
       "  <tbody>\n",
       "    <tr>\n",
       "      <th>0</th>\n",
       "      <td>NaN</td>\n",
       "      <td>Six former Soviet republics test air defenses ...</td>\n",
       "      <td>Wed, 26 Oct 2016 19:33 UTC © Eduard Korniyenko...</td>\n",
       "      <td>english</td>\n",
       "      <td>sott.net</td>\n",
       "      <td>US</td>\n",
       "      <td>0.0</td>\n",
       "    </tr>\n",
       "    <tr>\n",
       "      <th>1</th>\n",
       "      <td>Starkman</td>\n",
       "      <td>WikiLeaks Expose Hillary Clinton’s Daytime Dri...</td>\n",
       "      <td>Hillary Clinton spent a whole afternoon drunk ...</td>\n",
       "      <td>english</td>\n",
       "      <td>topinfopost.com</td>\n",
       "      <td>US</td>\n",
       "      <td>0.0</td>\n",
       "    </tr>\n",
       "    <tr>\n",
       "      <th>2</th>\n",
       "      <td>Yves Smith</td>\n",
       "      <td>Links 11/10/16</td>\n",
       "      <td>Clinton didn’t lose because she’s a woman The ...</td>\n",
       "      <td>english</td>\n",
       "      <td>nakedcapitalism.com</td>\n",
       "      <td>US</td>\n",
       "      <td>0.0</td>\n",
       "    </tr>\n",
       "    <tr>\n",
       "      <th>3</th>\n",
       "      <td>pac522</td>\n",
       "      <td></td>\n",
       "      <td>Part 2 Mother &amp; Child Worship https://www.yout...</td>\n",
       "      <td>english</td>\n",
       "      <td>prisonplanet.com</td>\n",
       "      <td>US</td>\n",
       "      <td>0.0</td>\n",
       "    </tr>\n",
       "    <tr>\n",
       "      <th>4</th>\n",
       "      <td>NaN</td>\n",
       "      <td>Duterte Pulls a 180: China to Build Fake Islan...</td>\n",
       "      <td>Duterte Pulls a 180: China to Build Fake Islan...</td>\n",
       "      <td>english</td>\n",
       "      <td>blacklistednews.com</td>\n",
       "      <td>US</td>\n",
       "      <td>0.0</td>\n",
       "    </tr>\n",
       "  </tbody>\n",
       "</table>\n",
       "</div>"
      ],
      "text/plain": [
       "       author                                              title  \\\n",
       "0         NaN  Six former Soviet republics test air defenses ...   \n",
       "1    Starkman  WikiLeaks Expose Hillary Clinton’s Daytime Dri...   \n",
       "2  Yves Smith                                     Links 11/10/16   \n",
       "3      pac522                                                      \n",
       "4         NaN  Duterte Pulls a 180: China to Build Fake Islan...   \n",
       "\n",
       "                                                text language  \\\n",
       "0  Wed, 26 Oct 2016 19:33 UTC © Eduard Korniyenko...  english   \n",
       "1  Hillary Clinton spent a whole afternoon drunk ...  english   \n",
       "2  Clinton didn’t lose because she’s a woman The ...  english   \n",
       "3  Part 2 Mother & Child Worship https://www.yout...  english   \n",
       "4  Duterte Pulls a 180: China to Build Fake Islan...  english   \n",
       "\n",
       "              site_url country  spam_score  \n",
       "0             sott.net      US         0.0  \n",
       "1      topinfopost.com      US         0.0  \n",
       "2  nakedcapitalism.com      US         0.0  \n",
       "3     prisonplanet.com      US         0.0  \n",
       "4  blacklistednews.com      US         0.0  "
      ]
     },
     "execution_count": 103,
     "metadata": {},
     "output_type": "execute_result"
    }
   ],
   "source": [
    "df = pd.read_csv('datasets/fake.csv', usecols = ['author','title','text','language','site_url','country', 'spam_score'])\n",
    "df = df[df.language == 'english']\n",
    "df = df[df['text'].map(type) == str]\n",
    "df['title'].fillna(value=\"\", inplace=True)\n",
    "df.dropna(axis=0, inplace=True, subset=['text'])\n",
    "# shuffle the data\n",
    "df = df.sample(frac=1.0)\n",
    "df.reset_index(drop=True,inplace=True)\n",
    "df.head()"
   ]
  },
  {
   "cell_type": "code",
   "execution_count": 104,
   "metadata": {},
   "outputs": [
    {
     "data": {
      "text/html": [
       "<div>\n",
       "<style scoped>\n",
       "    .dataframe tbody tr th:only-of-type {\n",
       "        vertical-align: middle;\n",
       "    }\n",
       "\n",
       "    .dataframe tbody tr th {\n",
       "        vertical-align: top;\n",
       "    }\n",
       "\n",
       "    .dataframe thead th {\n",
       "        text-align: right;\n",
       "    }\n",
       "</style>\n",
       "<table border=\"1\" class=\"dataframe\">\n",
       "  <thead>\n",
       "    <tr style=\"text-align: right;\">\n",
       "      <th></th>\n",
       "      <th>author</th>\n",
       "      <th>title</th>\n",
       "      <th>text</th>\n",
       "      <th>language</th>\n",
       "      <th>site_url</th>\n",
       "      <th>country</th>\n",
       "      <th>spam_score</th>\n",
       "      <th>spam_category</th>\n",
       "    </tr>\n",
       "  </thead>\n",
       "  <tbody>\n",
       "    <tr>\n",
       "      <th>0</th>\n",
       "      <td>NaN</td>\n",
       "      <td>Six former Soviet republics test air defenses ...</td>\n",
       "      <td>Wed, 26 Oct 2016 19:33 UTC © Eduard Korniyenko...</td>\n",
       "      <td>english</td>\n",
       "      <td>sott.net</td>\n",
       "      <td>US</td>\n",
       "      <td>0.0</td>\n",
       "      <td>NaN</td>\n",
       "    </tr>\n",
       "    <tr>\n",
       "      <th>1</th>\n",
       "      <td>Starkman</td>\n",
       "      <td>WikiLeaks Expose Hillary Clinton’s Daytime Dri...</td>\n",
       "      <td>Hillary Clinton spent a whole afternoon drunk ...</td>\n",
       "      <td>english</td>\n",
       "      <td>topinfopost.com</td>\n",
       "      <td>US</td>\n",
       "      <td>0.0</td>\n",
       "      <td>NaN</td>\n",
       "    </tr>\n",
       "    <tr>\n",
       "      <th>2</th>\n",
       "      <td>Yves Smith</td>\n",
       "      <td>Links 11/10/16</td>\n",
       "      <td>Clinton didn’t lose because she’s a woman The ...</td>\n",
       "      <td>english</td>\n",
       "      <td>nakedcapitalism.com</td>\n",
       "      <td>US</td>\n",
       "      <td>0.0</td>\n",
       "      <td>NaN</td>\n",
       "    </tr>\n",
       "    <tr>\n",
       "      <th>3</th>\n",
       "      <td>pac522</td>\n",
       "      <td></td>\n",
       "      <td>Part 2 Mother &amp; Child Worship https://www.yout...</td>\n",
       "      <td>english</td>\n",
       "      <td>prisonplanet.com</td>\n",
       "      <td>US</td>\n",
       "      <td>0.0</td>\n",
       "      <td>NaN</td>\n",
       "    </tr>\n",
       "    <tr>\n",
       "      <th>4</th>\n",
       "      <td>NaN</td>\n",
       "      <td>Duterte Pulls a 180: China to Build Fake Islan...</td>\n",
       "      <td>Duterte Pulls a 180: China to Build Fake Islan...</td>\n",
       "      <td>english</td>\n",
       "      <td>blacklistednews.com</td>\n",
       "      <td>US</td>\n",
       "      <td>0.0</td>\n",
       "      <td>NaN</td>\n",
       "    </tr>\n",
       "  </tbody>\n",
       "</table>\n",
       "</div>"
      ],
      "text/plain": [
       "       author                                              title  \\\n",
       "0         NaN  Six former Soviet republics test air defenses ...   \n",
       "1    Starkman  WikiLeaks Expose Hillary Clinton’s Daytime Dri...   \n",
       "2  Yves Smith                                     Links 11/10/16   \n",
       "3      pac522                                                      \n",
       "4         NaN  Duterte Pulls a 180: China to Build Fake Islan...   \n",
       "\n",
       "                                                text language  \\\n",
       "0  Wed, 26 Oct 2016 19:33 UTC © Eduard Korniyenko...  english   \n",
       "1  Hillary Clinton spent a whole afternoon drunk ...  english   \n",
       "2  Clinton didn’t lose because she’s a woman The ...  english   \n",
       "3  Part 2 Mother & Child Worship https://www.yout...  english   \n",
       "4  Duterte Pulls a 180: China to Build Fake Islan...  english   \n",
       "\n",
       "              site_url country  spam_score spam_category  \n",
       "0             sott.net      US         0.0           NaN  \n",
       "1      topinfopost.com      US         0.0           NaN  \n",
       "2  nakedcapitalism.com      US         0.0           NaN  \n",
       "3     prisonplanet.com      US         0.0           NaN  \n",
       "4  blacklistednews.com      US         0.0           NaN  "
      ]
     },
     "execution_count": 104,
     "metadata": {},
     "output_type": "execute_result"
    }
   ],
   "source": [
    "bin = [0.0, 0.1, 0.2, 0.3, 0.4, 0.5, 0.6, 0.7, 0.8, 0.9, 1.0, 1.1]\n",
    "category = pd.cut(df.spam_score, bins=bin, labels = ['0.0', '0.1', '0.2', '0.3', '0.4', '0.5', '0.6', '0.7', '0.8', '0.9', '1.0'])\n",
    "category = category.to_frame()\n",
    "category.columns = ['spam_category']\n",
    "df_new = pd.concat([df,category],axis = 1)\n",
    "df_new.head()"
   ]
  },
  {
   "cell_type": "code",
   "execution_count": 105,
   "metadata": {},
   "outputs": [
    {
     "data": {
      "text/html": [
       "<div>\n",
       "<style scoped>\n",
       "    .dataframe tbody tr th:only-of-type {\n",
       "        vertical-align: middle;\n",
       "    }\n",
       "\n",
       "    .dataframe tbody tr th {\n",
       "        vertical-align: top;\n",
       "    }\n",
       "\n",
       "    .dataframe thead th {\n",
       "        text-align: right;\n",
       "    }\n",
       "</style>\n",
       "<table border=\"1\" class=\"dataframe\">\n",
       "  <thead>\n",
       "    <tr style=\"text-align: right;\">\n",
       "      <th></th>\n",
       "      <th>author</th>\n",
       "      <th>title</th>\n",
       "      <th>text</th>\n",
       "      <th>language</th>\n",
       "      <th>site_url</th>\n",
       "      <th>country</th>\n",
       "      <th>spam_score</th>\n",
       "      <th>spam_category</th>\n",
       "    </tr>\n",
       "  </thead>\n",
       "  <tbody>\n",
       "    <tr>\n",
       "      <th>0</th>\n",
       "      <td>NaN</td>\n",
       "      <td>Daily Mail forced to lie down in darkened room...</td>\n",
       "      <td>Tuesday 8 November 2016 Daily Mail forced to l...</td>\n",
       "      <td>english</td>\n",
       "      <td>newsthump.com</td>\n",
       "      <td>US</td>\n",
       "      <td>0.148</td>\n",
       "      <td>0.1</td>\n",
       "    </tr>\n",
       "    <tr>\n",
       "      <th>1</th>\n",
       "      <td>Victoria Taft</td>\n",
       "      <td>CNN Host Scolds Conway on Trump's Treatment of...</td>\n",
       "      <td>Share on Twitter \\nDonald Trump's campaign man...</td>\n",
       "      <td>english</td>\n",
       "      <td>ijr.com</td>\n",
       "      <td>US</td>\n",
       "      <td>0.927</td>\n",
       "      <td>0.9</td>\n",
       "    </tr>\n",
       "    <tr>\n",
       "      <th>2</th>\n",
       "      <td>NaN</td>\n",
       "      <td>Humanity’s Greatest Mysteries - The Onion - Am...</td>\n",
       "      <td>Nation Puts 2016 Election Into Perspective By ...</td>\n",
       "      <td>english</td>\n",
       "      <td>theonion.com</td>\n",
       "      <td>US</td>\n",
       "      <td>0.173</td>\n",
       "      <td>0.1</td>\n",
       "    </tr>\n",
       "    <tr>\n",
       "      <th>3</th>\n",
       "      <td>NaN</td>\n",
       "      <td>Anonymous Just Issued a Message to the North D...</td>\n",
       "      <td>Anonymous Just Issued a Message to the North D...</td>\n",
       "      <td>english</td>\n",
       "      <td>theantimedia.org</td>\n",
       "      <td>US</td>\n",
       "      <td>0.600</td>\n",
       "      <td>0.5</td>\n",
       "    </tr>\n",
       "    <tr>\n",
       "      <th>4</th>\n",
       "      <td>Jhayla D. Tyson</td>\n",
       "      <td>7 Halloween Treats That Trick Children Into Cl...</td>\n",
       "      <td>It can be toilsome getting children into one c...</td>\n",
       "      <td>english</td>\n",
       "      <td>guardianlv.com</td>\n",
       "      <td>US</td>\n",
       "      <td>0.016</td>\n",
       "      <td>0.0</td>\n",
       "    </tr>\n",
       "  </tbody>\n",
       "</table>\n",
       "</div>"
      ],
      "text/plain": [
       "            author                                              title  \\\n",
       "0              NaN  Daily Mail forced to lie down in darkened room...   \n",
       "1    Victoria Taft  CNN Host Scolds Conway on Trump's Treatment of...   \n",
       "2              NaN  Humanity’s Greatest Mysteries - The Onion - Am...   \n",
       "3              NaN  Anonymous Just Issued a Message to the North D...   \n",
       "4  Jhayla D. Tyson  7 Halloween Treats That Trick Children Into Cl...   \n",
       "\n",
       "                                                text language  \\\n",
       "0  Tuesday 8 November 2016 Daily Mail forced to l...  english   \n",
       "1  Share on Twitter \\nDonald Trump's campaign man...  english   \n",
       "2  Nation Puts 2016 Election Into Perspective By ...  english   \n",
       "3  Anonymous Just Issued a Message to the North D...  english   \n",
       "4  It can be toilsome getting children into one c...  english   \n",
       "\n",
       "           site_url country  spam_score spam_category  \n",
       "0     newsthump.com      US       0.148           0.1  \n",
       "1           ijr.com      US       0.927           0.9  \n",
       "2      theonion.com      US       0.173           0.1  \n",
       "3  theantimedia.org      US       0.600           0.5  \n",
       "4    guardianlv.com      US       0.016           0.0  "
      ]
     },
     "execution_count": 105,
     "metadata": {},
     "output_type": "execute_result"
    }
   ],
   "source": [
    "df_new = df_new[df_new.language == 'english']\n",
    "df_new = df_new[df_new['text'].map(type) == str]\n",
    "df_new['title'].fillna(value=\"\", inplace=True)\n",
    "df_new.dropna(axis=0, inplace=True, subset=['text', 'title', 'spam_category'])\n",
    "# shuffle the data\n",
    "df_new = df_new.sample(frac=1.0)\n",
    "df_new.reset_index(drop=True,inplace=True)\n",
    "df_new.head()"
   ]
  },
  {
   "cell_type": "code",
   "execution_count": 106,
   "metadata": {},
   "outputs": [
    {
     "data": {
      "text/plain": [
       "<matplotlib.axes._subplots.AxesSubplot at 0x7f867c049860>"
      ]
     },
     "execution_count": 106,
     "metadata": {},
     "output_type": "execute_result"
    },
    {
     "data": {
      "image/png": "[encoded data removed]",
      "text/plain": [
       "<Figure size 432x288 with 1 Axes>"
      ]
     },
     "metadata": {},
     "output_type": "display_data"
    }
   ],
   "source": [
    "sns.countplot(df_new['spam_category'])"
   ]
  },
  {
   "cell_type": "code",
   "execution_count": 107,
   "metadata": {},
   "outputs": [
    {
     "data": {
      "text/plain": [
       "str"
      ]
     },
     "metadata": {},
     "output_type": "display_data"
    },
    {
     "data": {
      "text/plain": [
       "(1214, 30764)"
      ]
     },
     "metadata": {},
     "output_type": "display_data"
    },
    {
     "data": {
      "text/plain": [
       "(1214, 1)"
      ]
     },
     "metadata": {},
     "output_type": "display_data"
    }
   ],
   "source": [
    "df_new['total']=df_new['title']+df_new['text']\n",
    "\n",
    "display(type(df_new['total'][0]))\n",
    "\n",
    "#tfidf\n",
    "transformer = TfidfTransformer(smooth_idf=False)\n",
    "count_vectorizer = CountVectorizer(ngram_range=(1,1))\n",
    "counts = count_vectorizer.fit_transform(df_new['total'].values)\n",
    "tfidf = transformer.fit_transform(counts)\n",
    "targets = df_new['spam_category'].values\n",
    "targets = np.array(targets).reshape(-1,1)\n",
    "\n",
    "display(tfidf.shape)\n",
    "display(targets.shape)\n",
    "\n",
    "from sklearn.model_selection import train_test_split\n",
    "X_train, X_test, y_train, y_test = train_test_split(tfidf, targets, random_state=0)"
   ]
  },
  {
   "cell_type": "code",
   "execution_count": 108,
   "metadata": {},
   "outputs": [
    {
     "name": "stderr",
     "output_type": "stream",
     "text": [
      "/home/ec2-user/anaconda3/envs/python3/lib/python3.6/site-packages/sklearn/utils/validation.py:578: DataConversionWarning: A column-vector y was passed when a 1d array was expected. Please change the shape of y to (n_samples, ), for example using ravel().\n",
      "  y = column_or_1d(y, warn=True)\n"
     ]
    },
    {
     "name": "stdout",
     "output_type": "stream",
     "text": [
      "Accuracy of Lasso classifier on training set: 1.00\n",
      "Accuracy of Lasso classifier on test set: 0.43\n"
     ]
    }
   ],
   "source": [
    "from sklearn.linear_model import LogisticRegression\n",
    "logreg = LogisticRegression(C=1e5)\n",
    "logreg.fit(X_train, y_train)\n",
    "print('Accuracy of Lasso classifier on training set: {:.2f}'\n",
    "     .format(logreg.score(X_train, y_train)))\n",
    "print('Accuracy of Lasso classifier on test set: {:.2f}'\n",
    "     .format(logreg.score(X_test, y_test)))"
   ]
  },
  {
   "cell_type": "code",
   "execution_count": 109,
   "metadata": {},
   "outputs": [
    {
     "name": "stdout",
     "output_type": "stream",
     "text": [
      "Accuracy of NB  classifier on training set: 0.46\n",
      "Accuracy of NB classifier on test set: 0.44\n"
     ]
    },
    {
     "name": "stderr",
     "output_type": "stream",
     "text": [
      "/home/ec2-user/anaconda3/envs/python3/lib/python3.6/site-packages/sklearn/utils/validation.py:578: DataConversionWarning: A column-vector y was passed when a 1d array was expected. Please change the shape of y to (n_samples, ), for example using ravel().\n",
      "  y = column_or_1d(y, warn=True)\n"
     ]
    }
   ],
   "source": [
    "from sklearn.naive_bayes import MultinomialNB\n",
    "\n",
    "NB = MultinomialNB()\n",
    "NB.fit(X_train, y_train)\n",
    "print('Accuracy of NB  classifier on training set: {:.2f}'\n",
    "     .format(NB.score(X_train, y_train)))\n",
    "print('Accuracy of NB classifier on test set: {:.2f}'\n",
    "     .format(NB.score(X_test, y_test)))"
   ]
  },
  {
   "cell_type": "code",
   "execution_count": 110,
   "metadata": {},
   "outputs": [
    {
     "name": "stderr",
     "output_type": "stream",
     "text": [
      "/home/ec2-user/anaconda3/envs/python3/lib/python3.6/site-packages/ipykernel/__main__.py:5: DataConversionWarning: A column-vector y was passed when a 1d array was expected. Please change the shape of y to (n_samples,), for example using ravel().\n"
     ]
    },
    {
     "name": "stdout",
     "output_type": "stream",
     "text": [
      "Accuracy of ExtrTrees classifier on training set: 1.00\n",
      "Accuracy of Extratrees classifier on test set: 0.40\n"
     ]
    }
   ],
   "source": [
    "from sklearn.ensemble import (RandomForestClassifier, ExtraTreesClassifier,\n",
    "                              AdaBoostClassifier)\n",
    "\n",
    "Extr = ExtraTreesClassifier(n_estimators=5,n_jobs=4)\n",
    "Extr.fit(X_train, y_train)\n",
    "print('Accuracy of ExtrTrees classifier on training set: {:.2f}'\n",
    "     .format(Extr.score(X_train, y_train)))\n",
    "print('Accuracy of Extratrees classifier on test set: {:.2f}'\n",
    "     .format(Extr.score(X_test, y_test)))"
   ]
  },
  {
   "cell_type": "code",
   "execution_count": 111,
   "metadata": {},
   "outputs": [
    {
     "name": "stderr",
     "output_type": "stream",
     "text": [
      "/home/ec2-user/anaconda3/envs/python3/lib/python3.6/site-packages/sklearn/utils/validation.py:578: DataConversionWarning: A column-vector y was passed when a 1d array was expected. Please change the shape of y to (n_samples, ), for example using ravel().\n",
      "  y = column_or_1d(y, warn=True)\n"
     ]
    },
    {
     "name": "stdout",
     "output_type": "stream",
     "text": [
      "Accuracy of Adaboost classifier on training set: 0.52\n",
      "Accuracy of Adaboost classifier on test set: 0.43\n"
     ]
    }
   ],
   "source": [
    "from sklearn.tree import DecisionTreeClassifier\n",
    "\n",
    "Adab= AdaBoostClassifier(DecisionTreeClassifier(max_depth=3),n_estimators=5)\n",
    "Adab.fit(X_train, y_train)\n",
    "print('Accuracy of Adaboost classifier on training set: {:.2f}'\n",
    "     .format(Adab.score(X_train, y_train)))\n",
    "print('Accuracy of Adaboost classifier on test set: {:.2f}'\n",
    "     .format(Adab.score(X_test, y_test)))"
   ]
  },
  {
   "cell_type": "code",
   "execution_count": 112,
   "metadata": {},
   "outputs": [
    {
     "name": "stdout",
     "output_type": "stream",
     "text": [
      "Accuracy of randomforest classifier on training set: 0.91\n",
      "Accuracy of randomforest classifier on test set: 0.42\n"
     ]
    },
    {
     "name": "stderr",
     "output_type": "stream",
     "text": [
      "/home/ec2-user/anaconda3/envs/python3/lib/python3.6/site-packages/ipykernel/__main__.py:3: DataConversionWarning: A column-vector y was passed when a 1d array was expected. Please change the shape of y to (n_samples,), for example using ravel().\n",
      "  app.launch_new_instance()\n"
     ]
    }
   ],
   "source": [
    "Rando= RandomForestClassifier(n_estimators=5)\n",
    "\n",
    "Rando.fit(X_train, y_train)\n",
    "print('Accuracy of randomforest classifier on training set: {:.2f}'\n",
    "     .format(Rando.score(X_train, y_train)))\n",
    "print('Accuracy of randomforest classifier on test set: {:.2f}'\n",
    "     .format(Rando.score(X_test, y_test)))"
   ]
  },
  {
   "cell_type": "code",
   "execution_count": 113,
   "metadata": {},
   "outputs": [],
   "source": [
    "bbc =  'Saudi Arabia Says Jamal Khashoggi Was Killed in Consulate Fight\\n\" + \"Advertisement\\nSupported by\\nBy Ben Hubbard\\nBEIRUT, Lebanon — After two weeks of shifting stories, Saudi Arabia said Saturday that its agents strangled Jamal Khashoggi, a dissident journalist, after a fistfight inside the Saudi Consulate in Istanbul and that 18 men had been arrested in the case.\\nThose arrested included 15 men who were sent to confront Mr. Khashoggi, plus one driver and two consular staff, a Saudi official said.\\nState media reported that Saud al-Qahtani, a close aide to the crown prince, had been dismissed, along with Maj. Gen. Ahmed al-Assiri, the deputy director of Saudi intelligence, and other high-ranking intelligence officials. The Saudi official said General Asiri had organized the operation and that Mr. Qahtani had known about it and contributed to the aggressive environment that allowed it to escalate into violence.\\nPresident Trump on Friday night said that Saudi Arabia’s acknowledgment of the death and its announcement of arrests were “good first steps” but said he would consider “some form of sanction” in retaliation.\\nSince Mr. Khashoggi disappeared after entering the consulate on Oct. 2, Saudi Arabia has offered various, changing explanations for his disappearance — initially claiming that he had left the consulate alive.\\nBut international outrage mounted as Turkish officials leaked lurid details from their own investigation suggesting that he was murdered inside the consulate and dismembered by a team of 15 Saudi agents who flew in specifically to kill him.\\nThe case has battered the international reputation of the kingdom and its 33-year-old crown prince, Mohammed bin Salman, who has sought to sell himself to the world as a young reformer shaking off his country’s conservative past. But suspicions that such a complicated foreign operation could not have been launched without at least his tacit approval have driven away many of his staunchest foreign supporters.\\nBig name chief executives, investors and foreign officials, including Treasury Secretary Steven Mnuchin, have dropped out of a Saudi investment conference that the crown prince is hosting in Riyadh next week.\\nThe Trump administration had built strong ties with Crown Prince Mohammed, seeing him as a strong partner in its ambitions to counter Iran, forge a deal between Israel and the Palestinians, and reconfigure the Middle East. Although Mr. Trump said he would consider sanctions, he said he “would prefer we don’t use as retribution” the cancellation of $110 billion worth of arms sales to Saudi Arabia.\\nFor the first time on Saturday, a Saudi official familiar with the government’s handling of the situation put forward the kingdom’s narrative of the events that led to Mr. Khashoggi’s death.\\nSpeaking on condition of anonymity because the investigation was continuing, the official said that the kingdom had a general order to get dissidents living abroad to return to the kingdom. When the consulate in Istanbul reported that Mr. Khashoggi would be coming in on Oct. 2 to pick up a document needed for his upcoming marriage, General Asiri dispatched a 15-man team to confront him.\\nThe team included Maher Abdulaziz Mutrib, a security officer identified by The New York Times this week as a frequent member of the crown prince’s security detail during foreign trips, the official said. Mr. Mutrib had been chosen because he had worked with Mr. Khashoggi a decade ago in the Saudi Embassy in London and knew him personally.\\nBut the order to return Mr. Khashoggi to the kingdom was misinterpreted as it made its way down the chain of command, the official said, and a confrontation ensued as soon as Mr. Khashoggi saw the men. He tried to flee, the men stopped him, punches were thrown, Mr. Khashoggi screamed and one of the men put him in a chokehold, strangling him to death, the official said.\\n“The interaction in the room didn’t last very long at all,” the official said.\\nThe team then gave the body to a local collaborator to dispose of, meaning that they do not know where it ended up, and returned to the kingdom, the official said.\\nAll 15 members of the team had been identified by name by the Turks, and Turkish newspapers had published their photographs. The New York Times established that most of them were employed by the Saudi military or security services and that at least four had traveled with the crown prince as part of his security detail.\\nThe Turks had said the body had been disassembled with a bone saw by an autopsy specialist flown in specifically for that purpose and probably carried out of the consulate in large suitcases.\\nTurkish investigators were searching a park and a forest for traces of Mr. Khashoggi’s remains this week but did not announce their findings.\\nThe reports of Mr. Khashoggi’s killing had shaken members of the Saudi royal family, many of whom were angry about Crown Prince Mohammed’s swift rise over the past three years. Some wondered if the scandal could lead his father, King Salman, to replace him with another prince not tarnished by the case.\\nBut instead, the king named Crown Prince Mohammed the head of a committee to restructure the kingdom’s intelligence agency.\\nPeople with knowledge of the Saudi plans had told The Times on Thursday that the kingdom was planning to blame the operation on General Assiri, the deputy intelligence director. The people said the kingdom would portray the operation as carried out by rogue actors who did not have orders from the top and who had set out to interrogate and kidnap Mr. Khashoggi but ended up killing him, perhaps accidentally.\\nThe dismissal of Mr. Qahtani, considered one of the two closest aides to Crown Prince Mohammed, stood out because he is plays no public role in security or intelligence. He is in charge of media and communications for the crown prince, and he is widely believed to direct large-scale social media campaigns in support of him.\\nThe Saudi official said Mr. Qahtani had been fired because he had known about the operation and had contributed to the aggressive environment that allowed it to turn violent. Many social media accounts supportive of Prince Mohammed have systematically disparaged Mr. Khashoggi since his disappearance.\\nMr. Khashoggi, 60, was one of Saudi Arabia’s best known personalities, a journalist who had interviewed Osama bin Laden in Afghanistan years before he founded Al Qaeda. He later served an adviser to and unofficial spokesman for the Saudi royal family.\\nBut his relationship with the kingdom changed during the rise of Crown Prince Mohammed, who has announced broad social and economic reforms but has also gone after critics and cut down many of his fellow royals.\\nAfter many of his friends and colleagues were jailed last year, Mr. Khashoggi settled into self-exile in the Washington area and became a columnist for The Washington Post, a position he used to criticize the crown prince’s increasing authoritarianism.\\nMr. Khashoggi entered the Saudi Consulate in Istanbul on Oct. 2 to pick up an official document he needed to marry his Turkish fiancée, Hatice Cengiz. When he didn’t come out after a number of hours, Ms. Cengiz began calling Turkish officials to tell them that Mr. Khashoggi was missing.\\nSaudi Arabia chose to make its announcement in the middle of the night over a weekend in Riyadh and Istanbul. A Turkish official said it was too soon for Ankara to comment, but reaction on social media and elsewhere was dismissive.\\nRepresentative Adam Schiff of California, the senior Democrat on the House Intelligence Committee, said Friday night that he had received a detailed, classified briefing earlier in the day on what American spy services believe were the circumstances surrounding Mr. Khashoggi’s killing and who was responsible.\\nIn a telephone interview, Mr. Schiff would not disclose what intelligence agency briefers told him, citing its classified nature. But when asked whether his briefing was consistent with the explanation the Saudi government issued Saturday, Mr. Schiff said the Saudi version “was not credible.”\\n“The kingdom and all involved in this brutal murder must be held accountable, and if the Trump administration will not take the lead, Congress must,” he said.\\nSamantha Power, a former ambassador to the United Nations under President Barack Obama, said on Twitter that the Saudis were “shifting from bald-face lies (‘#Khashoggi left consulate’) to faux condemnation (of a ‘rogue operation’) to claiming the fox will credibly investigate what he did to the hen.”\\nBut Ali Shihabi, the founder of the Arabia Foundation in Washington and a prominent advocate for the kingdom’s policies, defended the belated statement, arguing that an initial cover-up that hid the truth from the royal court explained the delay.\\n“Part of the reason for firing so many top intelligence officials was due to the cover-up and slowness in conveying the full details of what happened to the leadership,” he wrote on Twitter. “This tragic fiasco was a huge shock to the Saudi leadership and a combination of confusion, lack of experience in such crisis management and a cover-up by the intelligence bureaucracy contributed to the initial Saudi response.”\\nJon B. Alterman, director of the Middle East Program at the Center for Strategic and International Studies, said the Saudis will have to provide more information — which may or may not comport with the intelligence that Turkey and the United States have gathered over the past two weeks.\\n“This has to be the beginning of a multiday effort that is long overdue,” Mr. Alterman said.\\nThe Saudi statement, for example, offered no explanation for why Mr. Khashoggi might enter an altercation with multiple foes in territory he knew to be dangerous. Mr. Khashoggi was regarded as low key and even-tempered by those who knew him. He felt nervous enough about his safety entering the consulate that he told his fiancée to wait outside with instructions to call the Turkish authorities if he did not emerge.\\nWhether the United States or Turkey is willing to dispute or contradict the Saudi explanation is far from clear. The Saudi narrative seemed to dodge the question of whether the men had been acting at the direction of top officials.\\nThe Trump administration has spent weeks trying to salvage Saudi Arabia’s role in its strategy to isolate Iran, which will be punctuated by the Nov. 5 re-imposition of onerous sanctions lifted under the 2015 Iran nuclear accord.\\nThe Turkish government has said it has audio and video recordings that suggest the Saudis ambushed Mr. Khoshoggi in the consulate and dismembered him. But President Recep Tayyip Erdogan of Turkey may never reveal these recordings.\\nElliott Abrams, a former top diplomat in Republican administrations, said the Saudi acknowledgment was an important first step but that many questions remain unanswered.\\n“Where is Jamal Khashoggi’s body, for one?” Mr. Abrams asked. “And it’s just hard to believe these people acted without instructions.”\\nMr. Abrams also dismissed the core of the Saudi explanation that Mr. Khashoggi had decided to put up a fight.\\n“He’s in the consulate surrounded by a crowd of men and he starts a fight?” Mr. Abrams asked. “It’s just not credible.”\\nDavid D. Kirkpatrick contributed reporting from London, Eric Schmitt and Gardiner Harris from Washington, and Emily Cochrane from Glendale, Ariz.\\nvideo\\nAdvertisement\\n'\n",
    "bbc = [bbc]"
   ]
  },
  {
   "cell_type": "code",
   "execution_count": 114,
   "metadata": {},
   "outputs": [
    {
     "data": {
      "text/plain": [
       "array(['0.0'], dtype=object)"
      ]
     },
     "metadata": {},
     "output_type": "display_data"
    },
    {
     "data": {
      "text/plain": [
       "array(['0.0'], dtype=object)"
      ]
     },
     "execution_count": 114,
     "metadata": {},
     "output_type": "execute_result"
    }
   ],
   "source": [
    "\n",
    "bbc_c = count_vectorizer.transform(bbc)\n",
    "bbc_t = transformer.transform(bbc_c)\n",
    "\n",
    "y = Rando.predict(bbc_t)\n",
    "\n",
    "display(y)\n",
    "y"
   ]
  },
  {
   "cell_type": "code",
   "execution_count": 115,
   "metadata": {},
   "outputs": [],
   "source": [
    "fake_title = 'Is Barron Trump a Chess Grandmaster?'\n",
    "fake_text = 'The tweets pushing this iubsreijv . vwcoiqh weoivehv vqiohe vcoH VO ehhuughghuuhgruhuhgruh ValueErrorV ROJH QVOI ROIV ROI VEJ VOERJ VOIJ OIRJVOW4IEJV OIQWV OIREV OIRE VOIER rumor also made several other outlandish claims: Some held that Barron Trump had an IQ of 146; others maintained that Barron’s father Donald Trump studied under chess legend Bobby Fischer and was himself one of the most celebrated chess players of all time. Many of these tweets were also accompanied by the accusation that the mainstream news media was ignoring the many chess-related accomplishments of the Trump family. While it’s true that mainstream news has largely ignored these stories, that circumstance isn’t due to any perceived bias. These reports were left uncovered for the simple fact that they were untrue. Everyone knows Barron Trump is the smartest President’s kid ever. Or should we call him First Son? Either way, Barron has been awarded the prestigious title of Chess Grandmaster this week from the International Board of Chessmasters … This should be no surprise considering who is father is. Donald Trump is one of the highest ranked and most celebrated American chess players of all time. In the 1970s and 80s, Donald Trump studied under the tutelage of players like Bobby Fischer. Eventually, he won hundreds of chess tournaments abroad before retiring at the ripe old age of 40.'\n",
    "fake = fake_title + ' ' + fake_text\n",
    "fake = [fake]"
   ]
  },
  {
   "cell_type": "code",
   "execution_count": 116,
   "metadata": {},
   "outputs": [
    {
     "data": {
      "text/plain": [
       "array(['0.0'], dtype=object)"
      ]
     },
     "metadata": {},
     "output_type": "display_data"
    }
   ],
   "source": [
    "fake_c = count_vectorizer.transform(fake)\n",
    "fake_t = transformer.transform(fake_c)\n",
    "\n",
    "y = Rando.predict(fake_t)\n",
    "\n",
    "display(y)"
   ]
  },
  {
   "cell_type": "code",
   "execution_count": 117,
   "metadata": {},
   "outputs": [],
   "source": [
    "# log_reg = LogisticRegression()\n",
    "# display(X_train.shape)\n",
    "# display(y_train.shape)\n",
    "# log_reg.fit(X_train, y_train)\n",
    "\n",
    "\n",
    "# print('The Coefficient of Determination is : ' + str(r2_score(y, y_cross_val)))\n",
    "# print('The Root Mean Squared Error is : ' + str(sqrt(mean_squared_error(y, y_cross_val))))"
   ]
  },
  {
   "cell_type": "code",
   "execution_count": 118,
   "metadata": {},
   "outputs": [
    {
     "name": "stdout",
     "output_type": "stream",
     "text": [
      "<class 'pandas.core.frame.DataFrame'>\n",
      "RangeIndex: 20800 entries, 0 to 20799\n",
      "Data columns (total 5 columns):\n",
      "id        20800 non-null int64\n",
      "title     20242 non-null object\n",
      "author    18843 non-null object\n",
      "text      20761 non-null object\n",
      "label     20800 non-null int64\n",
      "dtypes: int64(2), object(3)\n",
      "memory usage: 812.6+ KB\n"
     ]
    }
   ],
   "source": [
    "train=pd.read_csv('datasets/train.csv')\n",
    "train.info()"
   ]
  },
  {
   "cell_type": "code",
   "execution_count": 121,
   "metadata": {},
   "outputs": [],
   "source": [
    "#data prep\n",
    "train=train.fillna(' ')\n",
    "train['total']=train['title']+' '+train['text']\n",
    "\n",
    "#tfidf\n",
    "transformer = TfidfTransformer(smooth_idf=False)\n",
    "count_vectorizer = CountVectorizer(ngram_range=(1, 2))\n",
    "counts = count_vectorizer.fit_transform(train['total'].values)\n",
    "tfidf = transformer.fit_transform(counts)"
   ]
  },
  {
   "cell_type": "code",
   "execution_count": 122,
   "metadata": {},
   "outputs": [],
   "source": [
    "targets = train['label'].values"
   ]
  },
  {
   "cell_type": "code",
   "execution_count": 123,
   "metadata": {},
   "outputs": [],
   "source": [
    "X_train, X_test, y_train, y_test = train_test_split(tfidf, targets, random_state=0)"
   ]
  },
  {
   "cell_type": "code",
   "execution_count": 124,
   "metadata": {},
   "outputs": [
    {
     "data": {
      "text/plain": [
       "<matplotlib.axes._subplots.AxesSubplot at 0x7f867a81a898>"
      ]
     },
     "execution_count": 124,
     "metadata": {},
     "output_type": "execute_result"
    },
    {
     "data": {
      "image/png": "[encoded data removed]",
      "text/plain": [
       "<Figure size 432x288 with 1 Axes>"
      ]
     },
     "metadata": {},
     "output_type": "display_data"
    }
   ],
   "source": [
    "sns.countplot(y_train)"
   ]
  },
  {
   "cell_type": "code",
   "execution_count": 125,
   "metadata": {},
   "outputs": [
    {
     "name": "stdout",
     "output_type": "stream",
     "text": [
      "Accuracy of ExtrTrees classifier on training set: 1.00\n",
      "Accuracy of Extratrees classifier on test set: 0.84\n"
     ]
    }
   ],
   "source": [
    "from sklearn.ensemble import (RandomForestClassifier, ExtraTreesClassifier,\n",
    "                              AdaBoostClassifier)\n",
    "\n",
    "Extr = ExtraTreesClassifier(n_estimators=5,n_jobs=4)\n",
    "Extr.fit(X_train, y_train)\n",
    "print('Accuracy of ExtrTrees classifier on training set: {:.2f}'\n",
    "     .format(Extr.score(X_train, y_train)))\n",
    "print('Accuracy of Extratrees classifier on test set: {:.2f}'\n",
    "     .format(Extr.score(X_test, y_test)))"
   ]
  },
  {
   "cell_type": "code",
   "execution_count": 126,
   "metadata": {},
   "outputs": [
    {
     "name": "stdout",
     "output_type": "stream",
     "text": [
      "Accuracy of Adaboost classifier on training set: 0.95\n",
      "Accuracy of Adaboost classifier on test set: 0.95\n"
     ]
    }
   ],
   "source": [
    "Adab= AdaBoostClassifier(DecisionTreeClassifier(max_depth=3),n_estimators=5)\n",
    "Adab.fit(X_train, y_train)\n",
    "print('Accuracy of Adaboost classifier on training set: {:.2f}'\n",
    "     .format(Adab.score(X_train, y_train)))\n",
    "print('Accuracy of Adaboost classifier on test set: {:.2f}'\n",
    "     .format(Adab.score(X_test, y_test)))"
   ]
  },
  {
   "cell_type": "code",
   "execution_count": 127,
   "metadata": {},
   "outputs": [
    {
     "name": "stdout",
     "output_type": "stream",
     "text": [
      "Accuracy of randomforest classifier on training set: 0.98\n",
      "Accuracy of randomforest classifier on test set: 0.81\n"
     ]
    }
   ],
   "source": [
    "Rando= RandomForestClassifier(n_estimators=5)\n",
    "\n",
    "Rando.fit(X_train, y_train)\n",
    "print('Accuracy of randomforest classifier on training set: {:.2f}'\n",
    "     .format(Rando.score(X_train, y_train)))\n",
    "print('Accuracy of randomforest classifier on test set: {:.2f}'\n",
    "     .format(Rando.score(X_test, y_test)))"
   ]
  },
  {
   "cell_type": "code",
   "execution_count": 128,
   "metadata": {},
   "outputs": [
    {
     "name": "stdout",
     "output_type": "stream",
     "text": [
      "Accuracy of Lasso classifier on training set: 1.00\n",
      "Accuracy of Lasso classifier on test set: 0.98\n"
     ]
    }
   ],
   "source": [
    "from sklearn.linear_model import LogisticRegression\n",
    "logreg = LogisticRegression(C=1e5)\n",
    "logreg.fit(X_train, y_train)\n",
    "print('Accuracy of Lasso classifier on training set: {:.2f}'\n",
    "     .format(logreg.score(X_train, y_train)))\n",
    "print('Accuracy of Lasso classifier on test set: {:.2f}'\n",
    "     .format(logreg.score(X_test, y_test)))"
   ]
  },
  {
   "cell_type": "code",
   "execution_count": 129,
   "metadata": {},
   "outputs": [
    {
     "data": {
      "text/plain": [
       "['Saudi Arabia Says Jamal Khashoggi Was Killed in Consulate Fight\\n\" + \"Advertisement\\nSupported by\\nBy Ben Hubbard\\nBEIRUT, Lebanon — After two weeks of shifting stories, Saudi Arabia said Saturday that its agents strangled Jamal Khashoggi, a dissident journalist, after a fistfight inside the Saudi Consulate in Istanbul and that 18 men had been arrested in the case.\\nThose arrested included 15 men who were sent to confront Mr. Khashoggi, plus one driver and two consular staff, a Saudi official said.\\nState media reported that Saud al-Qahtani, a close aide to the crown prince, had been dismissed, along with Maj. Gen. Ahmed al-Assiri, the deputy director of Saudi intelligence, and other high-ranking intelligence officials. The Saudi official said General Asiri had organized the operation and that Mr. Qahtani had known about it and contributed to the aggressive environment that allowed it to escalate into violence.\\nPresident Trump on Friday night said that Saudi Arabia’s acknowledgment of the death and its announcement of arrests were “good first steps” but said he would consider “some form of sanction” in retaliation.\\nSince Mr. Khashoggi disappeared after entering the consulate on Oct. 2, Saudi Arabia has offered various, changing explanations for his disappearance — initially claiming that he had left the consulate alive.\\nBut international outrage mounted as Turkish officials leaked lurid details from their own investigation suggesting that he was murdered inside the consulate and dismembered by a team of 15 Saudi agents who flew in specifically to kill him.\\nThe case has battered the international reputation of the kingdom and its 33-year-old crown prince, Mohammed bin Salman, who has sought to sell himself to the world as a young reformer shaking off his country’s conservative past. But suspicions that such a complicated foreign operation could not have been launched without at least his tacit approval have driven away many of his staunchest foreign supporters.\\nBig name chief executives, investors and foreign officials, including Treasury Secretary Steven Mnuchin, have dropped out of a Saudi investment conference that the crown prince is hosting in Riyadh next week.\\nThe Trump administration had built strong ties with Crown Prince Mohammed, seeing him as a strong partner in its ambitions to counter Iran, forge a deal between Israel and the Palestinians, and reconfigure the Middle East. Although Mr. Trump said he would consider sanctions, he said he “would prefer we don’t use as retribution” the cancellation of $110 billion worth of arms sales to Saudi Arabia.\\nFor the first time on Saturday, a Saudi official familiar with the government’s handling of the situation put forward the kingdom’s narrative of the events that led to Mr. Khashoggi’s death.\\nSpeaking on condition of anonymity because the investigation was continuing, the official said that the kingdom had a general order to get dissidents living abroad to return to the kingdom. When the consulate in Istanbul reported that Mr. Khashoggi would be coming in on Oct. 2 to pick up a document needed for his upcoming marriage, General Asiri dispatched a 15-man team to confront him.\\nThe team included Maher Abdulaziz Mutrib, a security officer identified by The New York Times this week as a frequent member of the crown prince’s security detail during foreign trips, the official said. Mr. Mutrib had been chosen because he had worked with Mr. Khashoggi a decade ago in the Saudi Embassy in London and knew him personally.\\nBut the order to return Mr. Khashoggi to the kingdom was misinterpreted as it made its way down the chain of command, the official said, and a confrontation ensued as soon as Mr. Khashoggi saw the men. He tried to flee, the men stopped him, punches were thrown, Mr. Khashoggi screamed and one of the men put him in a chokehold, strangling him to death, the official said.\\n“The interaction in the room didn’t last very long at all,” the official said.\\nThe team then gave the body to a local collaborator to dispose of, meaning that they do not know where it ended up, and returned to the kingdom, the official said.\\nAll 15 members of the team had been identified by name by the Turks, and Turkish newspapers had published their photographs. The New York Times established that most of them were employed by the Saudi military or security services and that at least four had traveled with the crown prince as part of his security detail.\\nThe Turks had said the body had been disassembled with a bone saw by an autopsy specialist flown in specifically for that purpose and probably carried out of the consulate in large suitcases.\\nTurkish investigators were searching a park and a forest for traces of Mr. Khashoggi’s remains this week but did not announce their findings.\\nThe reports of Mr. Khashoggi’s killing had shaken members of the Saudi royal family, many of whom were angry about Crown Prince Mohammed’s swift rise over the past three years. Some wondered if the scandal could lead his father, King Salman, to replace him with another prince not tarnished by the case.\\nBut instead, the king named Crown Prince Mohammed the head of a committee to restructure the kingdom’s intelligence agency.\\nPeople with knowledge of the Saudi plans had told The Times on Thursday that the kingdom was planning to blame the operation on General Assiri, the deputy intelligence director. The people said the kingdom would portray the operation as carried out by rogue actors who did not have orders from the top and who had set out to interrogate and kidnap Mr. Khashoggi but ended up killing him, perhaps accidentally.\\nThe dismissal of Mr. Qahtani, considered one of the two closest aides to Crown Prince Mohammed, stood out because he is plays no public role in security or intelligence. He is in charge of media and communications for the crown prince, and he is widely believed to direct large-scale social media campaigns in support of him.\\nThe Saudi official said Mr. Qahtani had been fired because he had known about the operation and had contributed to the aggressive environment that allowed it to turn violent. Many social media accounts supportive of Prince Mohammed have systematically disparaged Mr. Khashoggi since his disappearance.\\nMr. Khashoggi, 60, was one of Saudi Arabia’s best known personalities, a journalist who had interviewed Osama bin Laden in Afghanistan years before he founded Al Qaeda. He later served an adviser to and unofficial spokesman for the Saudi royal family.\\nBut his relationship with the kingdom changed during the rise of Crown Prince Mohammed, who has announced broad social and economic reforms but has also gone after critics and cut down many of his fellow royals.\\nAfter many of his friends and colleagues were jailed last year, Mr. Khashoggi settled into self-exile in the Washington area and became a columnist for The Washington Post, a position he used to criticize the crown prince’s increasing authoritarianism.\\nMr. Khashoggi entered the Saudi Consulate in Istanbul on Oct. 2 to pick up an official document he needed to marry his Turkish fiancée, Hatice Cengiz. When he didn’t come out after a number of hours, Ms. Cengiz began calling Turkish officials to tell them that Mr. Khashoggi was missing.\\nSaudi Arabia chose to make its announcement in the middle of the night over a weekend in Riyadh and Istanbul. A Turkish official said it was too soon for Ankara to comment, but reaction on social media and elsewhere was dismissive.\\nRepresentative Adam Schiff of California, the senior Democrat on the House Intelligence Committee, said Friday night that he had received a detailed, classified briefing earlier in the day on what American spy services believe were the circumstances surrounding Mr. Khashoggi’s killing and who was responsible.\\nIn a telephone interview, Mr. Schiff would not disclose what intelligence agency briefers told him, citing its classified nature. But when asked whether his briefing was consistent with the explanation the Saudi government issued Saturday, Mr. Schiff said the Saudi version “was not credible.”\\n“The kingdom and all involved in this brutal murder must be held accountable, and if the Trump administration will not take the lead, Congress must,” he said.\\nSamantha Power, a former ambassador to the United Nations under President Barack Obama, said on Twitter that the Saudis were “shifting from bald-face lies (‘#Khashoggi left consulate’) to faux condemnation (of a ‘rogue operation’) to claiming the fox will credibly investigate what he did to the hen.”\\nBut Ali Shihabi, the founder of the Arabia Foundation in Washington and a prominent advocate for the kingdom’s policies, defended the belated statement, arguing that an initial cover-up that hid the truth from the royal court explained the delay.\\n“Part of the reason for firing so many top intelligence officials was due to the cover-up and slowness in conveying the full details of what happened to the leadership,” he wrote on Twitter. “This tragic fiasco was a huge shock to the Saudi leadership and a combination of confusion, lack of experience in such crisis management and a cover-up by the intelligence bureaucracy contributed to the initial Saudi response.”\\nJon B. Alterman, director of the Middle East Program at the Center for Strategic and International Studies, said the Saudis will have to provide more information — which may or may not comport with the intelligence that Turkey and the United States have gathered over the past two weeks.\\n“This has to be the beginning of a multiday effort that is long overdue,” Mr. Alterman said.\\nThe Saudi statement, for example, offered no explanation for why Mr. Khashoggi might enter an altercation with multiple foes in territory he knew to be dangerous. Mr. Khashoggi was regarded as low key and even-tempered by those who knew him. He felt nervous enough about his safety entering the consulate that he told his fiancée to wait outside with instructions to call the Turkish authorities if he did not emerge.\\nWhether the United States or Turkey is willing to dispute or contradict the Saudi explanation is far from clear. The Saudi narrative seemed to dodge the question of whether the men had been acting at the direction of top officials.\\nThe Trump administration has spent weeks trying to salvage Saudi Arabia’s role in its strategy to isolate Iran, which will be punctuated by the Nov. 5 re-imposition of onerous sanctions lifted under the 2015 Iran nuclear accord.\\nThe Turkish government has said it has audio and video recordings that suggest the Saudis ambushed Mr. Khoshoggi in the consulate and dismembered him. But President Recep Tayyip Erdogan of Turkey may never reveal these recordings.\\nElliott Abrams, a former top diplomat in Republican administrations, said the Saudi acknowledgment was an important first step but that many questions remain unanswered.\\n“Where is Jamal Khashoggi’s body, for one?” Mr. Abrams asked. “And it’s just hard to believe these people acted without instructions.”\\nMr. Abrams also dismissed the core of the Saudi explanation that Mr. Khashoggi had decided to put up a fight.\\n“He’s in the consulate surrounded by a crowd of men and he starts a fight?” Mr. Abrams asked. “It’s just not credible.”\\nDavid D. Kirkpatrick contributed reporting from London, Eric Schmitt and Gardiner Harris from Washington, and Emily Cochrane from Glendale, Ariz.\\nvideo\\nAdvertisement\\n']"
      ]
     },
     "metadata": {},
     "output_type": "display_data"
    }
   ],
   "source": [
    "display(bbc)"
   ]
  },
  {
   "cell_type": "code",
   "execution_count": 130,
   "metadata": {},
   "outputs": [
    {
     "data": {
      "text/plain": [
       "array([0])"
      ]
     },
     "metadata": {},
     "output_type": "display_data"
    },
    {
     "data": {
      "text/plain": [
       "array([0])"
      ]
     },
     "execution_count": 130,
     "metadata": {},
     "output_type": "execute_result"
    }
   ],
   "source": [
    "bbc_c = count_vectorizer.transform(bbc)\n",
    "bbc_t = transformer.transform(bbc_c)\n",
    "\n",
    "y = logreg.predict(bbc_t)\n",
    "\n",
    "display(y)\n",
    "y"
   ]
  },
  {
   "cell_type": "code",
   "execution_count": 131,
   "metadata": {},
   "outputs": [
    {
     "data": {
      "text/plain": [
       "array([1])"
      ]
     },
     "metadata": {},
     "output_type": "display_data"
    }
   ],
   "source": [
    "fake_c = count_vectorizer.transform(fake)\n",
    "fake_t = transformer.transform(fake_c)\n",
    "\n",
    "y = logreg.predict(fake_t)\n",
    "\n",
    "display(y)"
   ]
  }
 ],
 "metadata": {
  "kernelspec": {
   "display_name": "conda_python3",
   "language": "python",
   "name": "conda_python3"
  },
  "language_info": {
   "codemirror_mode": {
    "name": "ipython",
    "version": 3
   },
   "file_extension": ".py",
   "mimetype": "text/x-python",
   "name": "python",
   "nbconvert_exporter": "python",
   "pygments_lexer": "ipython3",
   "version": "3.6.5"
  }
 },
 "nbformat": 4,
 "nbformat_minor": 2
}
